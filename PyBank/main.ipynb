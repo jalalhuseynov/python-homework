{
 "cells": [
  {
   "cell_type": "code",
   "execution_count": 180,
   "id": "51ee7135-12f7-4c2a-960d-29c822536fe0",
   "metadata": {},
   "outputs": [],
   "source": [
    "# Importing the pathlib and csv library\n",
    "\n",
    "from pathlib import Path\n",
    "import csv"
   ]
  },
  {
   "cell_type": "code",
   "execution_count": 181,
   "id": "a09e8e26-563b-4794-be1c-317842360129",
   "metadata": {},
   "outputs": [],
   "source": [
    "# Setting the file path\n",
    "\n",
    "csvpath = Path('budget_data.csv')"
   ]
  },
  {
   "cell_type": "code",
   "execution_count": 182,
   "id": "f09fe29b-6014-41d2-a491-e281c4d91a24",
   "metadata": {},
   "outputs": [
    {
     "name": "stdout",
     "output_type": "stream",
     "text": [
      "Financial Analysis\n",
      "_________________________\n",
      "Total Months: 86\n",
      "Total PnL: $38382578\n",
      "Average Change: -2315.12 \n",
      "Greatest Increase in Profits: Feb-2012 ($1926159)\n",
      "Greatest Decrease in Profits: Sep-2013 ($-2196167)\n"
     ]
    }
   ],
   "source": [
    "\n",
    "\n",
    "# Openning the csv file as an object\n",
    "\n",
    "with open (csvpath, 'r') as csvfile:\n",
    "    \n",
    "    # csv file to the csv.reader() function\n",
    "\n",
    "    csvreader = csv.reader(csvfile, delimiter=',')\n",
    "    \n",
    "    # Readding the header row\n",
    "    csv_header = next(csvreader)\n",
    "    \n",
    "   \n",
    "    #Initializing variables\n",
    "    \n",
    "    month_count = 0\n",
    "    total_pnl = 0\n",
    "    greatest_increase = 0\n",
    "    greatest_increase_month = \"\"\n",
    "    greatest_decrease = 0\n",
    "    greatest_decrease_month = \"\"\n",
    "    previous_month = 0\n",
    "    total = 0\n",
    "    month = 0\n",
    "    \n",
    "    #Initializing a list\n",
    "    monthly_difference = []\n",
    "    \n",
    "    # Read each row of data after the header\n",
    "    for row in csvreader:\n",
    "     \n",
    "        #number of months\n",
    "        month_count = month_count + 1\n",
    "        #total profit/loss calculation\n",
    "        total_pnl += int(row[1])\n",
    "        \n",
    "        #checking month by month to calculate the avearage change\n",
    "        if  row[0] == \"Jan-2010\":\n",
    "            previous_month = int(row[1])\n",
    "            month += 1\n",
    "            total += int(row[1])\n",
    "            greatest_increase = 0\n",
    "            greatest_increase_month = row[0]\n",
    "            greatest_decrease = 0\n",
    "            greatest_decrease_month = row[0]\n",
    "            \n",
    "       #finding the greatest increase and the greates decrease\n",
    "        else:\n",
    "            month += 1\n",
    "            total += int(row[1])\n",
    "            monthly_difference.append(int(row[1])-previous_month)\n",
    "            if (int(row[1]) - previous_month) > greatest_increase:\n",
    "                greatest_increase = int(row[1]) -previous_month\n",
    "                greatest_increase_month = row [0]\n",
    "                \n",
    "            if (int(row[1]) - previous_month) < greatest_decrease:\n",
    "                greatest_decrease = int(row[1]) -previous_month\n",
    "                greatest_decrease_month = row [0]\n",
    "            \n",
    "            previous_month = int(row[1])\n",
    "            \n",
    "    # Printing final results: total months, total pnl, avearage change, greatest increase and greatest decrease   \n",
    "    print(\"Financial Analysis\")\n",
    "    print(\"_________________________\")\n",
    "    print(f\"Total Months: {month_count}\")\n",
    "    print(f\"Total PnL: ${total_pnl}\")\n",
    "    print(f\"Average Change: {round(sum(monthly_difference)/len(monthly_difference), 2)} \")\n",
    "    print(f\"Greatest Increase in Profits: {greatest_increase_month} (${greatest_increase})\")\n",
    "    print(f\"Greatest Decrease in Profits: {greatest_decrease_month} (${greatest_decrease})\")\n",
    "    \n",
    "# Setting output file name    \n",
    "result_path = 'results.txt'\n",
    "\n",
    "# Openning the output path as a file object\n",
    "with open(result_path, 'w') as file:\n",
    "    \n",
    "    file.write(\"Financial Analysis\")\n",
    "    file.write(\"_________________________\")\n",
    "    file.write(f\"Total Months: {month_count}\")\n",
    "    file.write(f\"Total PnL: ${total_pnl}\")\n",
    "    file.write(f\"Average Change: {round(sum(monthly_difference)/len(monthly_difference), 2)} \")\n",
    "    file.write(f\"Greatest Increase in Profits: {greatest_increase_month} (${greatest_increase})\")\n",
    "    file.write(f\"Greatest Decrease in Profits: {greatest_decrease_month} (${greatest_decrease})\")"
   ]
  },
  {
   "cell_type": "code",
   "execution_count": null,
   "id": "7e3f09d7-52ad-4d5b-b65f-281524594c38",
   "metadata": {},
   "outputs": [],
   "source": []
  }
 ],
 "metadata": {
  "kernelspec": {
   "display_name": "Python 3 (ipykernel)",
   "language": "python",
   "name": "python3"
  },
  "language_info": {
   "codemirror_mode": {
    "name": "ipython",
    "version": 3
   },
   "file_extension": ".py",
   "mimetype": "text/x-python",
   "name": "python",
   "nbconvert_exporter": "python",
   "pygments_lexer": "ipython3",
   "version": "3.8.8"
  }
 },
 "nbformat": 4,
 "nbformat_minor": 5
}
