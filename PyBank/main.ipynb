{
 "cells": [
  {
   "cell_type": "code",
   "execution_count": 471,
   "id": "51ee7135-12f7-4c2a-960d-29c822536fe0",
   "metadata": {},
   "outputs": [],
   "source": [
    "from pathlib import Path\n",
    "import csv"
   ]
  },
  {
   "cell_type": "code",
   "execution_count": 472,
   "id": "a09e8e26-563b-4794-be1c-317842360129",
   "metadata": {},
   "outputs": [],
   "source": [
    "csvpath = Path('budget_data.csv')"
   ]
  },
  {
   "cell_type": "code",
   "execution_count": 473,
   "id": "4bf0ade6-253b-4fcf-a1fb-72f42133bfb2",
   "metadata": {},
   "outputs": [
    {
     "name": "stdout",
     "output_type": "stream",
     "text": [
      "Financial Anaylsis\n",
      "_________________________\n",
      "Total Months: 86\n",
      "Total PnL: $38382578\n",
      "Average Change: -2315.12 \n",
      "Greatest Increase in Profits: Feb-2012 ($1926159)\n",
      "Greatest Decrease in Profits: Sep-2013 ($-2196167)\n"
     ]
    }
   ],
   "source": [
    "with open (csvpath, 'r') as csvfile:\n",
    "    \n",
    "    csvreader = csv.reader(csvfile, delimiter=',')\n",
    "    \n",
    "    csv_header = next(csvreader)\n",
    "    \n",
    "   \n",
    "    #Initializing variables\n",
    "    \n",
    "    month_count = 0\n",
    "    total_pnl = 0\n",
    "    monthly_difference = []\n",
    "    greatest_increase = 0\n",
    "    greatest_increase_month = \"\"\n",
    "    greatest_decrease = 0\n",
    "    greatest_decrease_month = \"\"\n",
    "    previous_month = 0\n",
    "    total = 0\n",
    "    month = 0\n",
    "    \n",
    "    for row in csvreader:\n",
    "     \n",
    "        #number of months\n",
    "        month_count += 1\n",
    "        #total profit/loss calculation\n",
    "        total_pnl += int(row[1])\n",
    "        \n",
    "        if row[0] == \"Date\":\n",
    "            pass\n",
    "        elif row[0] == \"Jan-2010\":\n",
    "            previous_month = int(row[1])\n",
    "            month_count += 1\n",
    "            total += int(row[1])\n",
    "            greatest_increase = 0\n",
    "            greatest_increase_month = row[0]\n",
    "            greatest_decrease = 0\n",
    "            greatest_decrease_month = row[0]\n",
    "        elif row[0] == \"Feb-2010\":\n",
    "            greatest_increase = int(row[1]) - previous_month\n",
    "            greatest_decrease = int(row[1]) - previous_month\n",
    "            month += 1\n",
    "            total += int(row[1])\n",
    "            greatest_increase_month = row[0]\n",
    "            monthly_difference.append(int(row[1]) - previous_month)\n",
    "            previous_month = int(row[1])\n",
    "        else:\n",
    "            month += 1\n",
    "            total += int(row[1])\n",
    "            monthly_difference.append(int(row[1])-previous_month)\n",
    "            if (int(row[1]) - previous_month) > greatest_increase:\n",
    "                greatest_increase = int(row[1]) -previous_month\n",
    "                greatest_increase_month = row [0]\n",
    "                \n",
    "            if (int(row[1]) - previous_month) < greatest_decrease:\n",
    "                greatest_decrease = int(row[1]) -previous_month\n",
    "                greatest_decrease_month = row [0]\n",
    "            \n",
    "            previous_month = int(row[1])\n",
    "            \n",
    "        \n",
    "    print(\"Financial Analysis\")\n",
    "    print(\"_________________________\")\n",
    "    print(f\"Total Months: {month_count-1}\")\n",
    "    print(f\"Total PnL: ${total_pnl}\")\n",
    "    print(f\"Average Change: {round(sum(monthly_difference)/85, 2)} \")\n",
    "    print(f\"Greatest Increase in Profits: {greatest_increase_month} (${greatest_increase})\")\n",
    "    print(f\"Greatest Decrease in Profits: {greatest_decrease_month} (${greatest_decrease})\")"
   ]
  }
 ],
 "metadata": {
  "kernelspec": {
   "display_name": "Python 3 (ipykernel)",
   "language": "python",
   "name": "python3"
  },
  "language_info": {
   "codemirror_mode": {
    "name": "ipython",
    "version": 3
   },
   "file_extension": ".py",
   "mimetype": "text/x-python",
   "name": "python",
   "nbconvert_exporter": "python",
   "pygments_lexer": "ipython3",
   "version": "3.8.8"
  }
 },
 "nbformat": 4,
 "nbformat_minor": 5
}
